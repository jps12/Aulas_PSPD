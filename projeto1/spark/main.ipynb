{
 "cells": [
  {
   "cell_type": "markdown",
   "metadata": {},
   "source": [
    "# Ler arquivo txt"
   ]
  },
  {
   "cell_type": "code",
   "execution_count": 1,
   "metadata": {},
   "outputs": [],
   "source": [
    "with open(\"input.txt\", \"r\") as tf:\n",
    "    lines = tf.read().split(',')\n",
    "    \n",
    "list_words = lines"
   ]
  },
  {
   "cell_type": "code",
   "execution_count": 2,
   "metadata": {},
   "outputs": [],
   "source": [
    "list_words = list_words[0].split('\\n')"
   ]
  },
  {
   "cell_type": "markdown",
   "metadata": {},
   "source": [
    "# Configura Spark"
   ]
  },
  {
   "cell_type": "code",
   "execution_count": 3,
   "metadata": {},
   "outputs": [],
   "source": [
    "from pyspark import SparkContext\n",
    "from pyspark.sql import SparkSession\n",
    "from pyspark.sql.functions import col,length,lower"
   ]
  },
  {
   "cell_type": "code",
   "execution_count": 4,
   "metadata": {},
   "outputs": [
    {
     "name": "stdout",
     "output_type": "stream",
     "text": [
      "CPU times: user 130 ms, sys: 298 ms, total: 428 ms\n",
      "Wall time: 37.8 s\n"
     ]
    }
   ],
   "source": [
    "%%time\n",
    "\n",
    "spark = SparkSession.builder.appName(\"Word Count\").getOrCreate()\n",
    "spark.sparkContext.setLogLevel(\"ERROR\")"
   ]
  },
  {
   "cell_type": "markdown",
   "metadata": {},
   "source": [
    "# 1) Conta Palavras"
   ]
  },
  {
   "cell_type": "code",
   "execution_count": 5,
   "metadata": {},
   "outputs": [],
   "source": [
    "# Cria lista de dicionarios para gerar o dataframe\n",
    "list_dict = []\n",
    "for name in list_words:\n",
    "    list_dict.append(dict(words = name))"
   ]
  },
  {
   "cell_type": "code",
   "execution_count": null,
   "metadata": {},
   "outputs": [
    {
     "name": "stdout",
     "output_type": "stream",
     "text": [
      "CPU times: user 8.6 s, sys: 42.8 ms, total: 8.64 s\n",
      "Wall time: 10.9 s\n"
     ]
    }
   ],
   "source": [
    "%%time\n",
    "# Cria o Dataframe\n",
    "\n",
    "df = spark.createDataFrame(list_dict)"
   ]
  },
  {
   "cell_type": "code",
   "execution_count": null,
   "metadata": {},
   "outputs": [
    {
     "name": "stderr",
     "output_type": "stream",
     "text": [
      "\r\n",
      "[Stage 0:>                                                          (0 + 8) / 8]\r"
     ]
    },
    {
     "name": "stdout",
     "output_type": "stream",
     "text": [
      "CPU times: user 3.46 ms, sys: 95 µs, total: 3.55 ms\n",
      "Wall time: 2.13 s\n"
     ]
    },
    {
     "name": "stderr",
     "output_type": "stream",
     "text": [
      "\r\n",
      "                                                                                \r"
     ]
    },
    {
     "data": {
      "text/plain": [
       "1048577"
      ]
     },
     "execution_count": 7,
     "metadata": {},
     "output_type": "execute_result"
    }
   ],
   "source": [
    "%%time\n",
    "# Conta quantidade de linhas do dataframe\n",
    "df.count()"
   ]
  },
  {
   "cell_type": "markdown",
   "metadata": {},
   "source": [
    "# 2) Quantas vezes cada palavra se repete"
   ]
  },
  {
   "cell_type": "code",
   "execution_count": null,
   "metadata": {},
   "outputs": [
    {
     "name": "stdout",
     "output_type": "stream",
     "text": [
      "CPU times: user 2.77 ms, sys: 0 ns, total: 2.77 ms\n",
      "Wall time: 72.5 ms\n"
     ]
    }
   ],
   "source": [
    "%%time\n",
    "df = df.groupBy(\"words\").count().orderBy(\"count\",ascending=False)"
   ]
  },
  {
   "cell_type": "code",
   "execution_count": null,
   "metadata": {},
   "outputs": [
    {
     "name": "stdout",
     "output_type": "stream",
     "text": [
      "CPU times: user 2.07 ms, sys: 25 µs, total: 2.09 ms\n",
      "Wall time: 9.38 ms\n"
     ]
    }
   ],
   "source": [
    "%%time\n",
    "df = df.withColumn(\"words\",lower(col(\"words\")))"
   ]
  },
  {
   "cell_type": "code",
   "execution_count": null,
   "metadata": {},
   "outputs": [
    {
     "name": "stdout",
     "output_type": "stream",
     "text": [
      "CPU times: user 3.35 ms, sys: 0 ns, total: 3.35 ms\n",
      "Wall time: 681 ms\n"
     ]
    }
   ],
   "source": [
    "%%time\n",
    "tamanho_df = df.count()"
   ]
  },
  {
   "cell_type": "code",
   "execution_count": null,
   "metadata": {},
   "outputs": [
    {
     "name": "stdout",
     "output_type": "stream",
     "text": [
      "+------------+-----+\n",
      "|       words|count|\n",
      "+------------+-----+\n",
      "|   Faculdade|44130|\n",
      "|          de|43978|\n",
      "|      Victor|43965|\n",
      "|       Pedro|43926|\n",
      "|        Gama|43923|\n",
      "|       Lucas|43899|\n",
      "|     Sistema|43858|\n",
      "|    Carvalho|43812|\n",
      "|        João|43786|\n",
      "|    Software|43731|\n",
      "|Distribuidos|43721|\n",
      "| Programação|43718|\n",
      "|       Silva|43699|\n",
      "| Laboratorio|43688|\n",
      "|      Samuel|43678|\n",
      "|         UnB|43632|\n",
      "|   Paralelos|43574|\n",
      "|         FGA|43569|\n",
      "|          do|43528|\n",
      "|      Santos|43484|\n",
      "|     Materia|43468|\n",
      "|         dos|43334|\n",
      "|  Engenharia|43326|\n",
      "|        PSPD|43149|\n",
      "|            |    1|\n",
      "+------------+-----+\n",
      "\n",
      "CPU times: user 2.43 ms, sys: 68 µs, total: 2.49 ms\n",
      "Wall time: 787 ms\n"
     ]
    }
   ],
   "source": [
    "%%time\n",
    "df.show(tamanho_df)"
   ]
  },
  {
   "cell_type": "markdown",
   "metadata": {},
   "source": [
    "# 3) Contar quantas palavras começam com as letras S,P,R"
   ]
  },
  {
   "cell_type": "code",
   "execution_count": null,
   "metadata": {},
   "outputs": [
    {
     "name": "stdout",
     "output_type": "stream",
     "text": [
      "Comecam com P = 174367\n",
      "Comecam com S = 218450\n",
      "Comecam com R = None\n",
      "CPU times: user 11.9 ms, sys: 4.1 ms, total: 16 ms\n",
      "Wall time: 1.33 s\n"
     ]
    }
   ],
   "source": [
    "%%time\n",
    "print(f\"Comecam com P = {df.filter(df.words.startswith('p')).agg({'count':'sum'}).collect()[0][0]}\")\n",
    "print(f\"Comecam com S = {df.filter(df.words.startswith('s')).agg({'count':'sum'}).collect()[0][0]}\")\n",
    "print(f\"Comecam com R = {df.filter(df.words.startswith('r')).agg({'count':'sum'}).collect()[0][0]}\")"
   ]
  },
  {
   "cell_type": "markdown",
   "metadata": {},
   "source": [
    "# 4) Contar quantas palavras tem tamanho 6,8,11"
   ]
  },
  {
   "cell_type": "code",
   "execution_count": null,
   "metadata": {},
   "outputs": [
    {
     "name": "stdout",
     "output_type": "stream",
     "text": [
      "Tamanho 6 = 131127\n",
      "Tamanho 8 = 87543\n",
      "Tamanho 11 = 87406\n",
      "CPU times: user 15.1 ms, sys: 31 µs, total: 15.1 ms\n",
      "Wall time: 1.33 s\n"
     ]
    }
   ],
   "source": [
    "%%time\n",
    "print(f\"Tamanho 6 = {df.filter(length(col('words')) == 6).agg({'count':'sum'}).collect()[0][0]}\")\n",
    "print(f\"Tamanho 8 = {df.filter(length(col('words')) == 8).agg({'count':'sum'}).collect()[0][0]}\")\n",
    "print(f\"Tamanho 11 = {df.filter(length(col('words')) == 11).agg({'count':'sum'}).collect()[0][0]}\")"
   ]
  },
  {
   "cell_type": "code",
   "execution_count": null,
   "metadata": {},
   "outputs": [],
   "source": []
  }
 ],
 "metadata": {
  "interpreter": {
   "hash": "31f2aee4e71d21fbe5cf8b01ff0e069b9275f58929596ceb00d14d90e3e16cd6"
  },
  "kernelspec": {
   "display_name": "Python 3 (ipykernel)",
   "language": "python",
   "name": "python3"
  },
  "language_info": {
   "codemirror_mode": {
    "name": "ipython",
    "version": 3
   },
   "file_extension": ".py",
   "mimetype": "text/x-python",
   "name": "python",
   "nbconvert_exporter": "python",
   "pygments_lexer": "ipython3",
   "version": "3.8.10"
  }
 },
 "nbformat": 4,
 "nbformat_minor": 2
}
